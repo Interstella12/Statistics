{
 "cells": [
  {
   "cell_type": "markdown",
   "metadata": {},
   "source": [
    "# 总结\n",
    "<font color=#0099ff>\n",
    "&ensp;&ensp;&ensp;&ensp;数据的分布特征有不同的描述方式，不同的方式适用于不同的数据类型．\n",
    "<br/>\n",
    "&ensp;&ensp;&ensp;&ensp;一般的，可以从集中趋势，离散程度，分布状态来描述数据的分布特征．\n",
    "<br/>\n",
    "&ensp;&ensp;&ensp;&ensp;数据分布特征和描述统计量如下图:\n",
    "</font>\n",
    "\n",
    "  ![数据分布特征](../source/pics/chapter4/数据分布特征.png '数据分布特征')\n"
   ]
  },
  {
   "cell_type": "markdown",
   "metadata": {},
   "source": [
    "# 思考题的个人解答\n",
    "\n",
    "1.一组数据的分布特征可以从哪几个方面进行测度？\n",
    "\n",
    "<font color=#0099ff>\n",
    "&ensp;&ensp;&ensp;&ensp;包括集中趋势，离散程度，分布形状\n",
    "</font>\n",
    "\n",
    "2.简述众数，中位数和平均数的特点和应用场合?\n",
    "\n",
    "<font color=#0099ff>\n",
    "&ensp;&ensp;&ensp;&ensp;(1) 众数: 不受极端值的影响，但是有时候可能存在多个或者不存在，适用于大批量的分类数据\n",
    "<br/>\n",
    "&ensp;&ensp;&ensp;&ensp;(2) 中位数: 不受极端值的影响，适用于顺序数据\n",
    "<br/>\n",
    "&ensp;&ensp;&ensp;&ensp;(3) 平均数: 利用了全部数据的信息，容易受极端值的影响，适用于较少极端值的大批量数值数据\n",
    "</font>\n",
    "\n",
    "3.简述异众比率，四分位差，方差或标准差的应用场合．\n",
    "\n",
    "<font color=#0099ff>\n",
    "&ensp;&ensp;&ensp;&ensp;(1) 异众比率: 适用分类数据的离散程度分析\n",
    "<br/>\n",
    "&ensp;&ensp;&ensp;&ensp;(2) 四分位差: 适用于顺序数据和数值数据的离散程度分析\n",
    "<br/>\n",
    "&ensp;&ensp;&ensp;&ensp;(3) 方差或标准差: 适用于数值数据的离散程度分析\n",
    "</font>\n",
    "\n",
    "4.标准分数有那些用途？\n",
    "\n",
    "<font color=#0099ff>\n",
    "&ensp;&ensp;&ensp;&ensp;分析数据在样本集合中的相对位置，在不同两个数据间分析采用标准化处理后更加具有对比性\n",
    "</font>\n",
    "\n",
    "5.为什么要计算离散系数？\n",
    "\n",
    "<font color=#0099ff>\n",
    "&ensp;&ensp;&ensp;&ensp;方便进行不同量纲样本间的离散程度比较\n",
    "</font>\n",
    "\n",
    "6.测量数据分布性状的统计量有哪些？\n",
    "\n",
    "<font color=#0099ff>\n",
    "&ensp;&ensp;&ensp;&ensp;偏度系数，峰度系数\n",
    "</font>\n"
   ]
  },
  {
   "cell_type": "markdown",
   "metadata": {},
   "source": [
    "# 练习题"
   ]
  },
  {
   "cell_type": "code",
   "execution_count": 2,
   "metadata": {
    "ExecuteTime": {
     "end_time": "2019-10-30T07:22:07.897431Z",
     "start_time": "2019-10-30T07:22:07.296140Z"
    },
    "code_folding": [
     0
    ]
   },
   "outputs": [],
   "source": [
    "#\n",
    "import pandas as pd\n",
    "import numpy as np\n",
    "import matplotlib\n",
    "import matplotlib.pyplot as plt\n",
    "\n",
    "import seaborn as sns\n",
    "sns.set(palette=\"tab10\")\n",
    "sns.set_style('darkgrid')\n",
    "sns.set_context('talk')\n",
    "\n",
    "# 中文支持\n",
    "font_name = 'SIMHEI'\n",
    "matplotlib.rcParams['font.family'] = font_name  # 用来正常显示中文标签\n",
    "matplotlib.rcParams['axes.unicode_minus'] = False  # 用来正常显示负号\n"
   ]
  },
  {
   "cell_type": "markdown",
   "metadata": {},
   "source": [
    "## 4.1\n",
    "一家汽车零售店的10名销售人员5月份销售的汽车数量（单位：量）排序后如下:\n",
    "<br>\n",
    "2    4    7    10    10    10    12    12    14    15"
   ]
  },
  {
   "cell_type": "markdown",
   "metadata": {},
   "source": [
    "### （１）计算汽车销售量的众数，中位数和平均数\n"
   ]
  },
  {
   "cell_type": "code",
   "execution_count": 6,
   "metadata": {
    "ExecuteTime": {
     "end_time": "2019-10-30T07:23:40.661128Z",
     "start_time": "2019-10-30T07:23:40.653923Z"
    }
   },
   "outputs": [
    {
     "name": "stdout",
     "output_type": "stream",
     "text": [
      "众数： 10\n",
      "中位数： 10.0\n",
      "平均数： 8.6\n"
     ]
    }
   ],
   "source": [
    "# \n",
    "sales = [2, 4, 7, 10, 10, 10, 12, 12, 14, 5]\n",
    "sales = pd.Series(sales)\n",
    "print('众数：', sales.mode()[0])\n",
    "print('中位数：', sales.median())\n",
    "print('平均数：', sales.mean())"
   ]
  },
  {
   "cell_type": "markdown",
   "metadata": {},
   "source": [
    "### （２）计算销售量的四分位数\n"
   ]
  },
  {
   "cell_type": "code",
   "execution_count": 8,
   "metadata": {
    "ExecuteTime": {
     "end_time": "2019-10-30T07:26:08.563847Z",
     "start_time": "2019-10-30T07:26:08.556108Z"
    },
    "code_folding": []
   },
   "outputs": [
    {
     "name": "stdout",
     "output_type": "stream",
     "text": [
      "下分位数： 5.5\n",
      "上分位数： 11.5\n"
     ]
    }
   ],
   "source": [
    "#\n",
    "print('下分位数：', sales.quantile(0.25))\n",
    "print('上分位数：', sales.quantile(0.75))"
   ]
  },
  {
   "cell_type": "markdown",
   "metadata": {},
   "source": [
    "### （３）计算销售量的标准差"
   ]
  },
  {
   "cell_type": "code",
   "execution_count": 9,
   "metadata": {
    "ExecuteTime": {
     "end_time": "2019-10-30T07:26:59.699721Z",
     "start_time": "2019-10-30T07:26:59.695004Z"
    },
    "code_folding": []
   },
   "outputs": [
    {
     "name": "stdout",
     "output_type": "stream",
     "text": [
      "标准差： 3.921450978627398\n"
     ]
    }
   ],
   "source": [
    "#\n",
    "print('标准差：', sales.std())"
   ]
  },
  {
   "cell_type": "markdown",
   "metadata": {
    "ExecuteTime": {
     "end_time": "2019-10-29T05:58:12.910072Z",
     "start_time": "2019-10-29T05:58:12.901694Z"
    }
   },
   "source": [
    "### 说明汽车销售量分布的特征"
   ]
  },
  {
   "cell_type": "code",
   "execution_count": 11,
   "metadata": {
    "ExecuteTime": {
     "end_time": "2019-10-30T07:30:15.997814Z",
     "start_time": "2019-10-30T07:30:15.990131Z"
    }
   },
   "outputs": [
    {
     "name": "stdout",
     "output_type": "stream",
     "text": [
      "离散系数:  0.4559826719334184\n",
      "偏度系数:  -0.44055151154128785\n",
      "峰度系数:  -0.9716209314425099\n"
     ]
    }
   ],
   "source": [
    "print(\"离散系数: \", sales.std()/sales.mean())\n",
    "print(\"偏度系数: \", sales.skew())\n",
    "print(\"峰度系数: \", sales.kurtosis())"
   ]
  },
  {
   "cell_type": "markdown",
   "metadata": {
    "ExecuteTime": {
     "end_time": "2019-10-30T07:32:29.324089Z",
     "start_time": "2019-10-30T07:32:29.320210Z"
    }
   },
   "source": [
    "<font color=#0099ff>\n",
    "&ensp;&ensp;&ensp;&ensp;可以看出，汽车销量的离散程度较为明显，且呈一定的左偏分布，峰度较为扁平\n",
    "</font>\n"
   ]
  },
  {
   "cell_type": "markdown",
   "metadata": {},
   "source": [
    "## 3.2\n",
    "随机抽取25个网络用户，得到他们的年龄数据如下:\n",
    "  ![网民年龄](../source/pics/chapter4/习题4.2.png '网民年龄')"
   ]
  },
  {
   "cell_type": "markdown",
   "metadata": {},
   "source": [
    "### （１）计算众数，中位数"
   ]
  },
  {
   "cell_type": "code",
   "execution_count": 26,
   "metadata": {
    "ExecuteTime": {
     "end_time": "2019-10-30T08:28:33.137075Z",
     "start_time": "2019-10-30T08:28:33.119742Z"
    }
   },
   "outputs": [
    {
     "data": {
      "text/html": [
       "<div>\n",
       "<style scoped>\n",
       "    .dataframe tbody tr th:only-of-type {\n",
       "        vertical-align: middle;\n",
       "    }\n",
       "\n",
       "    .dataframe tbody tr th {\n",
       "        vertical-align: top;\n",
       "    }\n",
       "\n",
       "    .dataframe thead th {\n",
       "        text-align: right;\n",
       "    }\n",
       "</style>\n",
       "<table border=\"1\" class=\"dataframe\">\n",
       "  <thead>\n",
       "    <tr style=\"text-align: right;\">\n",
       "      <th></th>\n",
       "      <th>年龄</th>\n",
       "    </tr>\n",
       "  </thead>\n",
       "  <tbody>\n",
       "    <tr>\n",
       "      <th>0</th>\n",
       "      <td>19</td>\n",
       "    </tr>\n",
       "    <tr>\n",
       "      <th>1</th>\n",
       "      <td>23</td>\n",
       "    </tr>\n",
       "  </tbody>\n",
       "</table>\n",
       "</div>"
      ],
      "text/plain": [
       "   年龄\n",
       "0  19\n",
       "1  23"
      ]
     },
     "execution_count": 26,
     "metadata": {},
     "output_type": "execute_result"
    }
   ],
   "source": [
    "# \n",
    "data = pd.read_excel('../source/《统计学》（第7版）—例题习题数据/（04）第4章  数据的概括性描述（7）/（4-2）本章练习题数据/习题4.2.xlsx')\n",
    "data.head(2)"
   ]
  },
  {
   "cell_type": "code",
   "execution_count": 27,
   "metadata": {
    "ExecuteTime": {
     "end_time": "2019-10-30T08:28:35.816152Z",
     "start_time": "2019-10-30T08:28:35.810656Z"
    },
    "code_folding": [
     0
    ],
    "scrolled": true
   },
   "outputs": [
    {
     "name": "stdout",
     "output_type": "stream",
     "text": [
      "众数： 19\n",
      "中位数： 23.0\n"
     ]
    }
   ],
   "source": [
    "#\n",
    "print('众数：', data['年龄'].mode()[0])\n",
    "print('中位数：', data['年龄'].median())"
   ]
  },
  {
   "cell_type": "markdown",
   "metadata": {},
   "source": [
    "### （２）计算四分位数"
   ]
  },
  {
   "cell_type": "code",
   "execution_count": 28,
   "metadata": {
    "ExecuteTime": {
     "end_time": "2019-10-30T08:28:37.609249Z",
     "start_time": "2019-10-30T08:28:37.602218Z"
    }
   },
   "outputs": [
    {
     "name": "stdout",
     "output_type": "stream",
     "text": [
      "下分位数： 19.0\n",
      "上分位数： 27.0\n"
     ]
    }
   ],
   "source": [
    "# \n",
    "print('下分位数：', data['年龄'].quantile(0.25))\n",
    "print('上分位数：', data['年龄'].quantile(0.75))"
   ]
  },
  {
   "cell_type": "markdown",
   "metadata": {
    "ExecuteTime": {
     "end_time": "2019-10-29T06:33:21.968354Z",
     "start_time": "2019-10-29T06:33:21.914183Z"
    }
   },
   "source": [
    "### （３）计算平均数和标准差\n"
   ]
  },
  {
   "cell_type": "code",
   "execution_count": 29,
   "metadata": {
    "ExecuteTime": {
     "end_time": "2019-10-30T08:28:43.605499Z",
     "start_time": "2019-10-30T08:28:43.601620Z"
    },
    "code_folding": [],
    "scrolled": false
   },
   "outputs": [
    {
     "name": "stdout",
     "output_type": "stream",
     "text": [
      "平均数： 24.0\n",
      "标准差： 6.652067347825035\n"
     ]
    }
   ],
   "source": [
    "# \n",
    "print('平均数：', data['年龄'].mean())\n",
    "print('标准差：', data['年龄'].std())"
   ]
  },
  {
   "cell_type": "markdown",
   "metadata": {
    "ExecuteTime": {
     "end_time": "2019-10-29T06:36:38.769118Z",
     "start_time": "2019-10-29T06:36:38.762063Z"
    }
   },
   "source": [
    "### （４）计算偏态系数和峰态系数"
   ]
  },
  {
   "cell_type": "code",
   "execution_count": 30,
   "metadata": {
    "ExecuteTime": {
     "end_time": "2019-10-30T08:28:44.417218Z",
     "start_time": "2019-10-30T08:28:44.412195Z"
    }
   },
   "outputs": [
    {
     "name": "stdout",
     "output_type": "stream",
     "text": [
      "偏度系数:  1.0801103571153396\n",
      "峰度系数:  0.7727051310729163\n"
     ]
    }
   ],
   "source": [
    "# \n",
    "print(\"偏度系数: \", data['年龄'].skew())\n",
    "print(\"峰度系数: \", data['年龄'].kurtosis())"
   ]
  },
  {
   "cell_type": "markdown",
   "metadata": {
    "ExecuteTime": {
     "end_time": "2019-10-29T06:36:38.769118Z",
     "start_time": "2019-10-29T06:36:38.762063Z"
    }
   },
   "source": [
    "### （５）对网民年龄的分布特征进行综合分析\n",
    "<font color=#0099ff>\n",
    "&ensp;&ensp;&ensp;&ensp;可以看出，网民年龄呈高度右偏分布，峰度较为明显，呈尖峰分布\n",
    "</font>"
   ]
  },
  {
   "cell_type": "markdown",
   "metadata": {
    "ExecuteTime": {
     "end_time": "2019-10-29T07:31:44.373316Z",
     "start_time": "2019-10-29T07:31:44.367437Z"
    }
   },
   "source": [
    "## 4.3\n",
    "某电商6月份的各天的销售额数据如下:\n",
    "![销售额](../source/pics/chapter4/习题4.3.png '销售额')"
   ]
  },
  {
   "cell_type": "markdown",
   "metadata": {},
   "source": [
    "### （１）计算该电商日销售额的平均数和中位数"
   ]
  },
  {
   "cell_type": "code",
   "execution_count": 31,
   "metadata": {
    "ExecuteTime": {
     "end_time": "2019-10-30T08:28:50.653341Z",
     "start_time": "2019-10-30T08:28:50.639093Z"
    }
   },
   "outputs": [
    {
     "data": {
      "text/html": [
       "<div>\n",
       "<style scoped>\n",
       "    .dataframe tbody tr th:only-of-type {\n",
       "        vertical-align: middle;\n",
       "    }\n",
       "\n",
       "    .dataframe tbody tr th {\n",
       "        vertical-align: top;\n",
       "    }\n",
       "\n",
       "    .dataframe thead th {\n",
       "        text-align: right;\n",
       "    }\n",
       "</style>\n",
       "<table border=\"1\" class=\"dataframe\">\n",
       "  <thead>\n",
       "    <tr style=\"text-align: right;\">\n",
       "      <th></th>\n",
       "      <th>销售额</th>\n",
       "    </tr>\n",
       "  </thead>\n",
       "  <tbody>\n",
       "    <tr>\n",
       "      <th>0</th>\n",
       "      <td>257</td>\n",
       "    </tr>\n",
       "    <tr>\n",
       "      <th>1</th>\n",
       "      <td>271</td>\n",
       "    </tr>\n",
       "  </tbody>\n",
       "</table>\n",
       "</div>"
      ],
      "text/plain": [
       "   销售额\n",
       "0  257\n",
       "1  271"
      ]
     },
     "execution_count": 31,
     "metadata": {},
     "output_type": "execute_result"
    }
   ],
   "source": [
    "#\n",
    "data = pd.read_excel('../source/《统计学》（第7版）—例题习题数据/（04）第4章  数据的概括性描述（7）/（4-2）本章练习题数据/习题4.3.xlsx')\n",
    "data.head(2)"
   ]
  },
  {
   "cell_type": "code",
   "execution_count": 32,
   "metadata": {
    "ExecuteTime": {
     "end_time": "2019-10-30T08:30:11.757623Z",
     "start_time": "2019-10-30T08:30:11.750415Z"
    }
   },
   "outputs": [
    {
     "name": "stdout",
     "output_type": "stream",
     "text": [
      "平均数： 274.1\n",
      "中位数： 272.5\n"
     ]
    }
   ],
   "source": [
    "# \n",
    "print('平均数：', data['销售额'].mean())\n",
    "print('中位数：', data['销售额'].median())"
   ]
  },
  {
   "cell_type": "markdown",
   "metadata": {},
   "source": [
    "### （２）计算四分位数"
   ]
  },
  {
   "cell_type": "code",
   "execution_count": 33,
   "metadata": {
    "ExecuteTime": {
     "end_time": "2019-10-30T08:30:49.577341Z",
     "start_time": "2019-10-30T08:30:49.569661Z"
    }
   },
   "outputs": [
    {
     "name": "stdout",
     "output_type": "stream",
     "text": [
      "下分位数： 261.5\n",
      "上分位数： 289.25\n"
     ]
    }
   ],
   "source": [
    "# \n",
    "print('下分位数：', data['销售额'].quantile(0.25))\n",
    "print('上分位数：', data['销售额'].quantile(0.75))"
   ]
  },
  {
   "cell_type": "markdown",
   "metadata": {},
   "source": [
    "### （３）计算日销售额的标准差"
   ]
  },
  {
   "cell_type": "code",
   "execution_count": 34,
   "metadata": {
    "ExecuteTime": {
     "end_time": "2019-10-30T08:31:35.427339Z",
     "start_time": "2019-10-30T08:31:35.423066Z"
    }
   },
   "outputs": [
    {
     "name": "stdout",
     "output_type": "stream",
     "text": [
      "标准差： 21.17472468574837\n"
     ]
    }
   ],
   "source": [
    "# \n",
    "print('标准差：', data['销售额'].std())"
   ]
  },
  {
   "cell_type": "markdown",
   "metadata": {},
   "source": [
    "## 4.4\n",
    "在某地区抽取120家企业，按利润额进行分组，结果如下\n",
    "![利润额](../source/pics/chapter4/习题4.4.png '利润额')"
   ]
  },
  {
   "cell_type": "markdown",
   "metadata": {},
   "source": [
    "### （１）计算120家企业利润额的平均数和标准差"
   ]
  },
  {
   "cell_type": "code",
   "execution_count": 50,
   "metadata": {
    "ExecuteTime": {
     "end_time": "2019-10-30T09:00:08.814890Z",
     "start_time": "2019-10-30T09:00:08.798956Z"
    }
   },
   "outputs": [
    {
     "data": {
      "text/html": [
       "<div>\n",
       "<style scoped>\n",
       "    .dataframe tbody tr th:only-of-type {\n",
       "        vertical-align: middle;\n",
       "    }\n",
       "\n",
       "    .dataframe tbody tr th {\n",
       "        vertical-align: top;\n",
       "    }\n",
       "\n",
       "    .dataframe thead th {\n",
       "        text-align: right;\n",
       "    }\n",
       "</style>\n",
       "<table border=\"1\" class=\"dataframe\">\n",
       "  <thead>\n",
       "    <tr style=\"text-align: right;\">\n",
       "      <th></th>\n",
       "      <th>按利润额分组（万元）</th>\n",
       "      <th>企业数（个）</th>\n",
       "    </tr>\n",
       "  </thead>\n",
       "  <tbody>\n",
       "    <tr>\n",
       "      <th>0</th>\n",
       "      <td>200～300</td>\n",
       "      <td>19</td>\n",
       "    </tr>\n",
       "    <tr>\n",
       "      <th>1</th>\n",
       "      <td>300～400</td>\n",
       "      <td>30</td>\n",
       "    </tr>\n",
       "  </tbody>\n",
       "</table>\n",
       "</div>"
      ],
      "text/plain": [
       "  按利润额分组（万元）  企业数（个）\n",
       "0    200～300      19\n",
       "1    300～400      30"
      ]
     },
     "execution_count": 50,
     "metadata": {},
     "output_type": "execute_result"
    }
   ],
   "source": [
    "#\n",
    "data = pd.read_excel('../source/《统计学》（第7版）—例题习题数据/（04）第4章  数据的概括性描述（7）/（4-2）本章练习题数据/习题4.4.xlsx')\n",
    "data.head(2)"
   ]
  },
  {
   "cell_type": "code",
   "execution_count": 51,
   "metadata": {
    "ExecuteTime": {
     "end_time": "2019-10-30T09:00:09.731345Z",
     "start_time": "2019-10-30T09:00:09.710447Z"
    },
    "code_folding": []
   },
   "outputs": [
    {
     "name": "stdout",
     "output_type": "stream",
     "text": [
      "利润额标准差计算表:\n"
     ]
    },
    {
     "data": {
      "text/html": [
       "<div>\n",
       "<style scoped>\n",
       "    .dataframe tbody tr th:only-of-type {\n",
       "        vertical-align: middle;\n",
       "    }\n",
       "\n",
       "    .dataframe tbody tr th {\n",
       "        vertical-align: top;\n",
       "    }\n",
       "\n",
       "    .dataframe thead th {\n",
       "        text-align: right;\n",
       "    }\n",
       "</style>\n",
       "<table border=\"1\" class=\"dataframe\">\n",
       "  <thead>\n",
       "    <tr style=\"text-align: right;\">\n",
       "      <th></th>\n",
       "      <th>按利润额分组（万元）</th>\n",
       "      <th>企业数（个）</th>\n",
       "      <th>组中值</th>\n",
       "      <th>方差</th>\n",
       "      <th>方差*频数</th>\n",
       "    </tr>\n",
       "  </thead>\n",
       "  <tbody>\n",
       "    <tr>\n",
       "      <th>0</th>\n",
       "      <td>200～300</td>\n",
       "      <td>19</td>\n",
       "      <td>250.0</td>\n",
       "      <td>31211.111111</td>\n",
       "      <td>593011.111111</td>\n",
       "    </tr>\n",
       "    <tr>\n",
       "      <th>1</th>\n",
       "      <td>300～400</td>\n",
       "      <td>30</td>\n",
       "      <td>350.0</td>\n",
       "      <td>5877.777778</td>\n",
       "      <td>176333.333333</td>\n",
       "    </tr>\n",
       "    <tr>\n",
       "      <th>2</th>\n",
       "      <td>400～500</td>\n",
       "      <td>42</td>\n",
       "      <td>450.0</td>\n",
       "      <td>544.444444</td>\n",
       "      <td>22866.666667</td>\n",
       "    </tr>\n",
       "    <tr>\n",
       "      <th>3</th>\n",
       "      <td>500～600</td>\n",
       "      <td>18</td>\n",
       "      <td>550.0</td>\n",
       "      <td>15211.111111</td>\n",
       "      <td>273800.000000</td>\n",
       "    </tr>\n",
       "    <tr>\n",
       "      <th>4</th>\n",
       "      <td>600以上</td>\n",
       "      <td>11</td>\n",
       "      <td>650.0</td>\n",
       "      <td>49877.777778</td>\n",
       "      <td>548655.555556</td>\n",
       "    </tr>\n",
       "    <tr>\n",
       "      <th>5</th>\n",
       "      <td>合计</td>\n",
       "      <td>120</td>\n",
       "      <td>NaN</td>\n",
       "      <td>NaN</td>\n",
       "      <td>NaN</td>\n",
       "    </tr>\n",
       "  </tbody>\n",
       "</table>\n",
       "</div>"
      ],
      "text/plain": [
       "  按利润额分组（万元）  企业数（个）    组中值            方差          方差*频数\n",
       "0    200～300      19  250.0  31211.111111  593011.111111\n",
       "1    300～400      30  350.0   5877.777778  176333.333333\n",
       "2    400～500      42  450.0    544.444444   22866.666667\n",
       "3    500～600      18  550.0  15211.111111  273800.000000\n",
       "4      600以上      11  650.0  49877.777778  548655.555556\n",
       "5         合计     120    NaN           NaN            NaN"
      ]
     },
     "execution_count": 51,
     "metadata": {},
     "output_type": "execute_result"
    }
   ],
   "source": [
    "#\n",
    "mean_range = [250, 350, 450, 550, 650, np.nan]\n",
    "data['组中值'] = mean_range\n",
    "mean = np.dot(data['组中值'].values[:-1], data['企业数（个）'].values[:-1])/data.loc[5, '企业数（个）']\n",
    "data['方差'] = data['组中值'].apply(lambda x: (x-mean)**2)\n",
    "data['方差*频数'] = data['方差']*data['企业数（个）']\n",
    "print('利润额标准差计算表:')\n",
    "data"
   ]
  },
  {
   "cell_type": "code",
   "execution_count": 52,
   "metadata": {
    "ExecuteTime": {
     "end_time": "2019-10-30T09:00:11.240760Z",
     "start_time": "2019-10-30T09:00:11.234319Z"
    }
   },
   "outputs": [
    {
     "name": "stdout",
     "output_type": "stream",
     "text": [
      "平均数： 426.6666666666667\n",
      "标准差 116.48445154174179\n"
     ]
    }
   ],
   "source": [
    "#\n",
    "std = np.sqrt(data['方差*频数'].sum()/(data.loc[5, '企业数（个）']-1))\n",
    "print('平均数：', mean)\n",
    "print('标准差', std)"
   ]
  },
  {
   "cell_type": "markdown",
   "metadata": {},
   "source": [
    "### （２）计算分布的偏态系数和峰态系数"
   ]
  },
  {
   "cell_type": "code",
   "execution_count": 53,
   "metadata": {
    "ExecuteTime": {
     "end_time": "2019-10-30T09:00:13.898563Z",
     "start_time": "2019-10-30T09:00:13.839804Z"
    }
   },
   "outputs": [],
   "source": [
    "#\n",
    "data = pd.read_excel('../source/《统计学》（第7版）—例题习题数据/（04）第4章  数据的概括性描述（7）/（4-2）本章练习题数据/习题4.4.xlsx')"
   ]
  },
  {
   "cell_type": "code",
   "execution_count": 54,
   "metadata": {
    "ExecuteTime": {
     "end_time": "2019-10-30T09:00:14.807244Z",
     "start_time": "2019-10-30T09:00:14.786036Z"
    },
    "code_folding": []
   },
   "outputs": [
    {
     "name": "stdout",
     "output_type": "stream",
     "text": [
      "利润额偏态和峰态系数计算表:\n"
     ]
    },
    {
     "data": {
      "text/html": [
       "<div>\n",
       "<style scoped>\n",
       "    .dataframe tbody tr th:only-of-type {\n",
       "        vertical-align: middle;\n",
       "    }\n",
       "\n",
       "    .dataframe tbody tr th {\n",
       "        vertical-align: top;\n",
       "    }\n",
       "\n",
       "    .dataframe thead th {\n",
       "        text-align: right;\n",
       "    }\n",
       "</style>\n",
       "<table border=\"1\" class=\"dataframe\">\n",
       "  <thead>\n",
       "    <tr style=\"text-align: right;\">\n",
       "      <th></th>\n",
       "      <th>按利润额分组（万元）</th>\n",
       "      <th>企业数（个）</th>\n",
       "      <th>组中值</th>\n",
       "      <th>离差</th>\n",
       "      <th>离差^3*频数</th>\n",
       "      <th>离差^4*频数</th>\n",
       "    </tr>\n",
       "  </thead>\n",
       "  <tbody>\n",
       "    <tr>\n",
       "      <th>0</th>\n",
       "      <td>200～300</td>\n",
       "      <td>19</td>\n",
       "      <td>250.0</td>\n",
       "      <td>-176.666667</td>\n",
       "      <td>-1.047653e+08</td>\n",
       "      <td>1.850854e+10</td>\n",
       "    </tr>\n",
       "    <tr>\n",
       "      <th>1</th>\n",
       "      <td>300～400</td>\n",
       "      <td>30</td>\n",
       "      <td>350.0</td>\n",
       "      <td>-76.666667</td>\n",
       "      <td>-1.351889e+07</td>\n",
       "      <td>1.036448e+09</td>\n",
       "    </tr>\n",
       "    <tr>\n",
       "      <th>2</th>\n",
       "      <td>400～500</td>\n",
       "      <td>42</td>\n",
       "      <td>450.0</td>\n",
       "      <td>23.333333</td>\n",
       "      <td>5.335556e+05</td>\n",
       "      <td>1.244963e+07</td>\n",
       "    </tr>\n",
       "    <tr>\n",
       "      <th>3</th>\n",
       "      <td>500～600</td>\n",
       "      <td>18</td>\n",
       "      <td>550.0</td>\n",
       "      <td>123.333333</td>\n",
       "      <td>3.376867e+07</td>\n",
       "      <td>4.164802e+09</td>\n",
       "    </tr>\n",
       "    <tr>\n",
       "      <th>4</th>\n",
       "      <td>600以上</td>\n",
       "      <td>11</td>\n",
       "      <td>650.0</td>\n",
       "      <td>223.333333</td>\n",
       "      <td>1.225331e+08</td>\n",
       "      <td>2.736572e+10</td>\n",
       "    </tr>\n",
       "    <tr>\n",
       "      <th>5</th>\n",
       "      <td>合计</td>\n",
       "      <td>120</td>\n",
       "      <td>NaN</td>\n",
       "      <td>NaN</td>\n",
       "      <td>NaN</td>\n",
       "      <td>NaN</td>\n",
       "    </tr>\n",
       "  </tbody>\n",
       "</table>\n",
       "</div>"
      ],
      "text/plain": [
       "  按利润额分组（万元）  企业数（个）    组中值          离差       离差^3*频数       离差^4*频数\n",
       "0    200～300      19  250.0 -176.666667 -1.047653e+08  1.850854e+10\n",
       "1    300～400      30  350.0  -76.666667 -1.351889e+07  1.036448e+09\n",
       "2    400～500      42  450.0   23.333333  5.335556e+05  1.244963e+07\n",
       "3    500～600      18  550.0  123.333333  3.376867e+07  4.164802e+09\n",
       "4      600以上      11  650.0  223.333333  1.225331e+08  2.736572e+10\n",
       "5         合计     120    NaN         NaN           NaN           NaN"
      ]
     },
     "execution_count": 54,
     "metadata": {},
     "output_type": "execute_result"
    }
   ],
   "source": [
    "#\n",
    "mean_range = [250, 350, 450, 550, 650, np.nan]\n",
    "data['组中值'] = mean_range\n",
    "mean = np.dot(data['组中值'].values[:-1], data['企业数（个）'].values[:-1])/data.loc[5, '企业数（个）']\n",
    "data['离差'] = data['组中值'].apply(lambda x: (x-mean))\n",
    "data['离差^3*频数'] = data['离差']**3*data['企业数（个）']\n",
    "data['离差^4*频数'] = data['离差']**4*data['企业数（个）']\n",
    "print('利润额偏态和峰态系数计算表:')\n",
    "data"
   ]
  },
  {
   "cell_type": "code",
   "execution_count": 55,
   "metadata": {
    "ExecuteTime": {
     "end_time": "2019-10-30T09:02:16.200566Z",
     "start_time": "2019-10-30T09:02:16.192430Z"
    }
   },
   "outputs": [
    {
     "name": "stdout",
     "output_type": "stream",
     "text": [
      "偏态系数： 0.20325993207710757\n",
      "峰态系数 -0.6875867956942545\n"
     ]
    }
   ],
   "source": [
    "#\n",
    "skew = data['离差^3*频数'].sum()/data.loc[5, '企业数（个）']/(std**3)\n",
    "kurt = data['离差^4*频数'].sum()/data.loc[5, '企业数（个）']/(std**4)-3\n",
    "print('偏态系数：', skew)\n",
    "print('峰态系数', kurt)"
   ]
  },
  {
   "cell_type": "markdown",
   "metadata": {},
   "source": [
    "## 4.5\n",
    "一条产品生产线平均每天的产量为3700件，标准差为50件．如果某一天的产量低于或者高于平均产量，并落在±2个标准差的范围之外，就认为该生产线失去控制．下面是一周各天的产量，该生产线哪几天失去了控制: \n",
    "<br>\n",
    "![产量](../source/pics/chapter4/习题4.5.png '产量')\n"
   ]
  },
  {
   "cell_type": "code",
   "execution_count": 57,
   "metadata": {
    "ExecuteTime": {
     "end_time": "2019-10-30T09:16:45.185546Z",
     "start_time": "2019-10-30T09:16:45.164015Z"
    }
   },
   "outputs": [
    {
     "data": {
      "text/html": [
       "<div>\n",
       "<style scoped>\n",
       "    .dataframe tbody tr th:only-of-type {\n",
       "        vertical-align: middle;\n",
       "    }\n",
       "\n",
       "    .dataframe tbody tr th {\n",
       "        vertical-align: top;\n",
       "    }\n",
       "\n",
       "    .dataframe thead th {\n",
       "        text-align: right;\n",
       "    }\n",
       "</style>\n",
       "<table border=\"1\" class=\"dataframe\">\n",
       "  <thead>\n",
       "    <tr style=\"text-align: right;\">\n",
       "      <th></th>\n",
       "      <th>周一</th>\n",
       "      <th>周二</th>\n",
       "      <th>周三</th>\n",
       "      <th>周四</th>\n",
       "      <th>周五</th>\n",
       "      <th>周六</th>\n",
       "      <th>周日</th>\n",
       "    </tr>\n",
       "    <tr>\n",
       "      <th>时间</th>\n",
       "      <th></th>\n",
       "      <th></th>\n",
       "      <th></th>\n",
       "      <th></th>\n",
       "      <th></th>\n",
       "      <th></th>\n",
       "      <th></th>\n",
       "    </tr>\n",
       "  </thead>\n",
       "  <tbody>\n",
       "    <tr>\n",
       "      <th>产量（件）</th>\n",
       "      <td>3850</td>\n",
       "      <td>3670</td>\n",
       "      <td>3690</td>\n",
       "      <td>3720</td>\n",
       "      <td>3610</td>\n",
       "      <td>3590</td>\n",
       "      <td>3700</td>\n",
       "    </tr>\n",
       "  </tbody>\n",
       "</table>\n",
       "</div>"
      ],
      "text/plain": [
       "         周一    周二    周三    周四    周五    周六    周日\n",
       "时间                                             \n",
       "产量（件）  3850  3670  3690  3720  3610  3590  3700"
      ]
     },
     "execution_count": 57,
     "metadata": {},
     "output_type": "execute_result"
    }
   ],
   "source": [
    "data = pd.read_excel('../source/《统计学》（第7版）—例题习题数据/（04）第4章  数据的概括性描述（7）/（4-2）本章练习题数据/习题4.5.xlsx', index_col=0)\n",
    "data.head()"
   ]
  },
  {
   "cell_type": "code",
   "execution_count": 63,
   "metadata": {
    "ExecuteTime": {
     "end_time": "2019-10-30T09:20:29.732016Z",
     "start_time": "2019-10-30T09:20:29.718198Z"
    }
   },
   "outputs": [
    {
     "name": "stdout",
     "output_type": "stream",
     "text": [
      "失去控制的时间为:  ['周一', '周六']\n"
     ]
    }
   ],
   "source": [
    "# \n",
    "valid_min = 3700 - 50*2\n",
    "valid_max = 3700 + 50*2\n",
    "\n",
    "invalid_data = data[(data<valid_min) | (data > valid_max)].copy()\n",
    "invalid_data.dropna(inplace=True, axis=1)\n",
    "print('失去控制的时间为: ', invalid_data.columns.tolist())"
   ]
  },
  {
   "cell_type": "markdown",
   "metadata": {},
   "source": [
    "## 4.6 \n",
    "一种产品需要人工组装，现有三种可供选择的组装方法．为检验哪种方法更好，随机抽取１５个工人，让他们分别用三种方法组装．下面是１５个工人分别用三种方法在相同的时间内组装的产品数量：\n",
    "![产品数量](../source/pics/chapter4/习题4.6.png '产品数量')"
   ]
  },
  {
   "cell_type": "code",
   "execution_count": 66,
   "metadata": {
    "ExecuteTime": {
     "end_time": "2019-10-30T09:24:09.783616Z",
     "start_time": "2019-10-30T09:24:09.762555Z"
    }
   },
   "outputs": [
    {
     "data": {
      "text/html": [
       "<div>\n",
       "<style scoped>\n",
       "    .dataframe tbody tr th:only-of-type {\n",
       "        vertical-align: middle;\n",
       "    }\n",
       "\n",
       "    .dataframe tbody tr th {\n",
       "        vertical-align: top;\n",
       "    }\n",
       "\n",
       "    .dataframe thead th {\n",
       "        text-align: right;\n",
       "    }\n",
       "</style>\n",
       "<table border=\"1\" class=\"dataframe\">\n",
       "  <thead>\n",
       "    <tr style=\"text-align: right;\">\n",
       "      <th></th>\n",
       "      <th>方法A</th>\n",
       "      <th>方法B</th>\n",
       "      <th>方法C</th>\n",
       "    </tr>\n",
       "  </thead>\n",
       "  <tbody>\n",
       "    <tr>\n",
       "      <th>0</th>\n",
       "      <td>164</td>\n",
       "      <td>129</td>\n",
       "      <td>125</td>\n",
       "    </tr>\n",
       "    <tr>\n",
       "      <th>1</th>\n",
       "      <td>167</td>\n",
       "      <td>130</td>\n",
       "      <td>126</td>\n",
       "    </tr>\n",
       "  </tbody>\n",
       "</table>\n",
       "</div>"
      ],
      "text/plain": [
       "   方法A  方法B  方法C\n",
       "0  164  129  125\n",
       "1  167  130  126"
      ]
     },
     "execution_count": 66,
     "metadata": {},
     "output_type": "execute_result"
    }
   ],
   "source": [
    "#\n",
    "data = pd.read_excel('../source/《统计学》（第7版）—例题习题数据/（04）第4章  数据的概括性描述（7）/（4-2）本章练习题数据/习题4.6.xlsx')\n",
    "data.head(2)"
   ]
  },
  {
   "cell_type": "markdown",
   "metadata": {
    "ExecuteTime": {
     "end_time": "2019-10-29T09:26:20.416881Z",
     "start_time": "2019-10-29T09:26:20.153525Z"
    }
   },
   "source": [
    "### 你准备用什么方法评价组装方法的的优劣\n",
    "<font color=#0099ff>\n",
    "&ensp;&ensp;&ensp;&ensp;对于生产型企业，产量是最为关键的指标，因此采用平均产品数量是评价方法的主要参数，此外产品数量的方法可以用于评估方法是否具有更加简单有效，保证所有工人都能熟练掌握的重要参考指标\n",
    "</font>"
   ]
  },
  {
   "cell_type": "markdown",
   "metadata": {
    "ExecuteTime": {
     "end_time": "2019-10-29T09:11:12.120611Z",
     "start_time": "2019-10-29T09:11:12.112413Z"
    }
   },
   "source": [
    "### 如果让你选择一种方法，你会作出怎么样的选择？是说明理由"
   ]
  },
  {
   "cell_type": "code",
   "execution_count": 68,
   "metadata": {
    "ExecuteTime": {
     "end_time": "2019-10-30T09:31:51.334752Z",
     "start_time": "2019-10-30T09:31:51.321610Z"
    },
    "code_folding": [
     0
    ]
   },
   "outputs": [
    {
     "name": "stdout",
     "output_type": "stream",
     "text": [
      "方法A的产量均值: 165.60, 方差为: 2.13, 离散系数: 0.0129\n",
      "方法B的产量均值: 128.73, 方差为: 1.75, 离散系数: 0.0136\n",
      "方法C的产量均值: 125.53, 方差为: 2.77, 离散系数: 0.0221\n"
     ]
    }
   ],
   "source": [
    "# \n",
    "mean_A = data['方法A'].mean()\n",
    "std_A = data['方法A'].std()\n",
    "dev_ceof_A = std_A/mean_A\n",
    "print(f'方法A的产量均值: {mean_A:.2f}, 方差为: {std_A:.2f}, 离散系数: {dev_ceof_A:.4f}')\n",
    "\n",
    "mean_B = data['方法B'].mean()\n",
    "std_B = data['方法B'].std()\n",
    "dev_ceof_B = std_B/mean_B\n",
    "print(f'方法B的产量均值: {mean_B:.2f}, 方差为: {std_B:.2f}, 离散系数: {dev_ceof_B:.4f}')\n",
    "\n",
    "mean_C = data['方法C'].mean()\n",
    "std_C = data['方法C'].std()\n",
    "dev_ceof_C = std_C/mean_C\n",
    "print(f'方法C的产量均值: {mean_C:.2f}, 方差为: {std_C:.2f}, 离散系数: {dev_ceof_C:.4f}')"
   ]
  },
  {
   "cell_type": "markdown",
   "metadata": {
    "ExecuteTime": {
     "end_time": "2019-10-30T09:33:28.997665Z",
     "start_time": "2019-10-30T09:33:28.991995Z"
    }
   },
   "source": [
    "<font color=#0099ff>\n",
    "&ensp;&ensp;&ensp;&ensp;显然，方法A的产量远大于其他两个方法，而且虽然方差不是最小的，但是其离散系数最小，说明方法A无论从产量的大小上，还是稳定性上，都具有绝对的优势，应该按照方法A进行组装生产\n",
    "</font>"
   ]
  },
  {
   "cell_type": "code",
   "execution_count": null,
   "metadata": {},
   "outputs": [],
   "source": []
  },
  {
   "cell_type": "code",
   "execution_count": null,
   "metadata": {},
   "outputs": [],
   "source": []
  },
  {
   "cell_type": "code",
   "execution_count": null,
   "metadata": {},
   "outputs": [],
   "source": []
  },
  {
   "cell_type": "code",
   "execution_count": null,
   "metadata": {},
   "outputs": [],
   "source": []
  },
  {
   "cell_type": "code",
   "execution_count": null,
   "metadata": {},
   "outputs": [],
   "source": []
  },
  {
   "cell_type": "code",
   "execution_count": null,
   "metadata": {},
   "outputs": [],
   "source": []
  }
 ],
 "metadata": {
  "kernelspec": {
   "display_name": "Python 3",
   "language": "python",
   "name": "python3"
  },
  "language_info": {
   "codemirror_mode": {
    "name": "ipython",
    "version": 3
   },
   "file_extension": ".py",
   "mimetype": "text/x-python",
   "name": "python",
   "nbconvert_exporter": "python",
   "pygments_lexer": "ipython3",
   "version": "3.6.5"
  },
  "toc": {
   "base_numbering": 1,
   "nav_menu": {
    "height": "43px",
    "width": "160px"
   },
   "number_sections": true,
   "sideBar": true,
   "skip_h1_title": false,
   "title_cell": "Table of Contents",
   "title_sidebar": "Contents",
   "toc_cell": false,
   "toc_position": {},
   "toc_section_display": true,
   "toc_window_display": true
  }
 },
 "nbformat": 4,
 "nbformat_minor": 2
}
