{
 "cells": [
  {
   "cell_type": "markdown",
   "metadata": {},
   "source": [
    "# 总结\n",
    "&ensp;&ensp;&ensp;&ensp;数据是研究各种学科的基础，而对图表展示是对数据进行研究的一个重要手段．\n",
    "\n",
    "&ensp;&ensp;&ensp;&ensp;图表展示的作用是更有助于更加感性直观的对数据的整体有个了解和判断，以及对数据分布，趋势，集中度有个初步的判断，一个好的图表应该更加注重展示数据的实质内容而不是一些装饰性的东西，应该根据数据的类型，变量的数量选择合适的图表类型．\n",
    "\n",
    "&ensp;&ensp;&ensp;&ensp;数据的类型和主要图表方法如下:\n",
    "  \n",
    "  ![数据类型与图示](source/pics/chapter3/数据与图表.png '数据类型与图示')\n"
   ]
  },
  {
   "cell_type": "markdown",
   "metadata": {},
   "source": [
    "# 思考题的个人解答\n",
    "\n",
    "1.预处理包括哪些内容?\n",
    "\n",
    "&ensp;&ensp;&ensp;&ensp;数据审核，筛选，排序，透视图\n",
    "\n",
    "2.分类数据和顺序数据的整理和图示方法各有哪些?\n",
    "\n",
    "&ensp;&ensp;&ensp;&ensp;(1) 分类数据的整理有: 频数统计和数据透视表；分类数据的图示方法有: 条形图(bar chart)，帕累托图(Pareto chart)，饼图(Pie chart)，　环形图(Doughnut chart，适用于多样本比较)．\n",
    "\n",
    "&ensp;&ensp;&ensp;&ensp;(2) 顺序数据的整理有: 频数统计，累计频数/频率及数据透视表；图示方法有:  条形图(bar chart)，　帕累托图(Pareto chart)，饼图(Pie chart)，　环形图(Doughnut chart，适用于多样本比较)及累积频数分布或者频率图．\n",
    "\n",
    "3.数值型数据点的分组方法有哪些?简述组距分组的步骤．\n",
    "\n",
    "&ensp;&ensp;&ensp;&ensp;分组方法有单变量值分组和组距分组．其中组距分组步骤是: (1)确定组数，建议5-15组之间；(2)确定各组组距，一般是全体数据的最大值减去最小值再除以组数确定，如果出现极端的最大值或者最小值，应该灵活选择上下限；(3)编制分组后的频数分布表\n",
    "\n",
    "4.直方图和条形图有何区别？\n",
    "\n",
    "&ensp;&ensp;&ensp;&ensp;(1)条形图的宽度没有含义，直方图的含义代表了组距;(2)直方图的各矩形是连续排列的，而条形图是分开排列;(3)条形图用于展示分类数据，而直方图用于展示数值型数据\n",
    "\n",
    "5.绘制线图应注意哪些问题？\n",
    "\n",
    "&ensp;&ensp;&ensp;&ensp;一般把时间绘在横轴，观测值绘在纵轴，长宽比采用10:7(此比例应该是考虑标题，刻度的原因，因此大于黄金比例)，一般情况下下，纵轴下端应从0开始，如果数据与0间距过大，可以采用折断符号将纵轴折断\n",
    "\n",
    "6.饼图和环形图有什么区别？\n",
    "\n",
    "&ensp;&ensp;&ensp;&ensp;环形图中间多一个空洞，每个样本用一个环来表示，每个环的一段表示一部分数据，因此除了样本内可以清楚表示出比例分布，还能直观得看到样本间的分布比较\n",
    "\n",
    "7.茎叶图和直方图相比有什么优点？他们的应用场合是什么？\n",
    "\n",
    "&ensp;&ensp;&ensp;&ensp;茎叶图保留了原始数值的展示，适用于小批量数据，直方图适用于大批量数据\n",
    "\n",
    "8.鉴别图标优劣的准则有哪些？\n",
    "\n",
    "&ensp;&ensp;&ensp;&ensp;(1)精心设计；(2)复杂的观点得到简明，确切，高效的阐述；(3)读者在最短的时间获得最大量的信息；(4)多维；(5)表述数据的真实情况\n",
    "\n",
    "9.制作统计表时应注意哪几个问题？\n",
    "\n",
    "&ensp;&ensp;&ensp;&ensp;(1)合理安排结构；(2)表头赢包括表号，总标题和表中数据的单位；(3)表格上下两条线加粗，两边不封口；(4)必要时增加注释"
   ]
  }
 ],
 "metadata": {
  "kernelspec": {
   "display_name": "Python 3",
   "language": "python",
   "name": "python3"
  },
  "language_info": {
   "codemirror_mode": {
    "name": "ipython",
    "version": 3
   },
   "file_extension": ".py",
   "mimetype": "text/x-python",
   "name": "python",
   "nbconvert_exporter": "python",
   "pygments_lexer": "ipython3",
   "version": "3.6.5"
  },
  "toc": {
   "base_numbering": 1,
   "nav_menu": {
    "height": "43px",
    "width": "160px"
   },
   "number_sections": true,
   "sideBar": true,
   "skip_h1_title": false,
   "title_cell": "Table of Contents",
   "title_sidebar": "Contents",
   "toc_cell": false,
   "toc_position": {},
   "toc_section_display": true,
   "toc_window_display": false
  }
 },
 "nbformat": 4,
 "nbformat_minor": 2
}
